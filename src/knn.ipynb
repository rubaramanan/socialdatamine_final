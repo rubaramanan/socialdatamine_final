{
 "cells": [
  {
   "cell_type": "code",
   "execution_count": 2,
   "metadata": {},
   "outputs": [],
   "source": [
    "import pandas as pd\n",
    "from sklearn.model_selection import train_test_split\n",
    "from sklearn.neighbors import KNeighborsClassifier\n",
    "from sklearn.metrics import accuracy_score, classification_report, confusion_matrix\n"
   ]
  },
  {
   "cell_type": "code",
   "execution_count": 3,
   "metadata": {},
   "outputs": [],
   "source": [
    "\n",
    "\n",
    "df = pd.read_csv(\"D:\\Georgian\\Big Data\\Sem2\\Social data mining\\FinalProject\\data\\CC_clustered.csv\")\n",
    "\n",
    "# Define features and target variable\n",
    "X = df.drop(columns=['clusters'])\n",
    "y = df['clusters']\n",
    "\n",
    "# Split the dataset into training and testing sets\n",
    "X_train, X_test, y_train, y_test = train_test_split(X, y, test_size=0.2, random_state=42)\n"
   ]
  },
  {
   "cell_type": "code",
   "execution_count": 4,
   "metadata": {},
   "outputs": [
    {
     "name": "stdout",
     "output_type": "stream",
     "text": [
      "Accuracy: 0.9810055865921787\n"
     ]
    }
   ],
   "source": [
    "# Create the KNN model\n",
    "knn = KNeighborsClassifier(n_neighbors=3)  # You can adjust n_neighbors as needed\n",
    "\n",
    "# Train the model\n",
    "knn.fit(X_train, y_train)\n",
    "\n",
    "# Make predictions\n",
    "knn_pred = knn.predict(X_test)\n",
    "\n",
    "# Evaluate the model\n",
    "knn_accuracy = accuracy_score(y_test, knn_pred)\n",
    "knn_conf_matrix = confusion_matrix(y_test, knn_pred)\n",
    "class_report = classification_report(y_test, knn_pred)\n",
    "\n",
    "# Print results\n",
    "print(f\"Accuracy: {knn_accuracy}\")"
   ]
  },
  {
   "cell_type": "code",
   "execution_count": 5,
   "metadata": {},
   "outputs": [
    {
     "name": "stdout",
     "output_type": "stream",
     "text": [
      "Confusion Matrix:\n",
      "[[ 457   14    1]\n",
      " [   8 1269    0]\n",
      " [  10    1   30]]\n",
      "Classification Report:\n",
      "              precision    recall  f1-score   support\n",
      "\n",
      "           0       0.96      0.97      0.97       472\n",
      "           1       0.99      0.99      0.99      1277\n",
      "           2       0.97      0.73      0.83        41\n",
      "\n",
      "    accuracy                           0.98      1790\n",
      "   macro avg       0.97      0.90      0.93      1790\n",
      "weighted avg       0.98      0.98      0.98      1790\n",
      "\n"
     ]
    }
   ],
   "source": [
    "print(\"Confusion Matrix:\")\n",
    "print(knn_conf_matrix)\n",
    "print(\"Classification Report:\")\n",
    "print(class_report)"
   ]
  }
 ],
 "metadata": {
  "kernelspec": {
   "display_name": "hello",
   "language": "python",
   "name": "python3"
  },
  "language_info": {
   "codemirror_mode": {
    "name": "ipython",
    "version": 3
   },
   "file_extension": ".py",
   "mimetype": "text/x-python",
   "name": "python",
   "nbconvert_exporter": "python",
   "pygments_lexer": "ipython3",
   "version": "3.11.4"
  }
 },
 "nbformat": 4,
 "nbformat_minor": 2
}
